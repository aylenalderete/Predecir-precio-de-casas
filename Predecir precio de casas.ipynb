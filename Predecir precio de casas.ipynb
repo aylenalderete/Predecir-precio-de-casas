{
 "cells": [
  {
   "cell_type": "markdown",
   "id": "ecf9dae2",
   "metadata": {},
   "source": [
    "## Predecir precio de casas en Boston"
   ]
  },
  {
   "cell_type": "code",
   "execution_count": 1,
   "id": "60a884f6",
   "metadata": {},
   "outputs": [],
   "source": [
    "import numpy as np\n",
    "import matplotlib.pyplot as plt\n",
    "from sklearn import datasets, linear_model"
   ]
  },
  {
   "cell_type": "code",
   "execution_count": 6,
   "id": "46dbd659",
   "metadata": {
    "collapsed": true
   },
   "outputs": [
    {
     "name": "stdout",
     "output_type": "stream",
     "text": [
      "Información en el dataset: dict_keys(['data', 'target', 'feature_names', 'DESCR', 'filename'])\n"
     ]
    }
   ],
   "source": [
    "boston = datasets.load_boston()\n",
    "\n",
    "#Visualizamos la información del dataset\n",
    "\n",
    "print('Información en el dataset:', boston.keys())"
   ]
  },
  {
   "cell_type": "code",
   "execution_count": 7,
   "id": "d646613d",
   "metadata": {
    "collapsed": true
   },
   "outputs": [
    {
     "name": "stdout",
     "output_type": "stream",
     "text": [
      "Características del dataset: .. _boston_dataset:\n",
      "\n",
      "Boston house prices dataset\n",
      "---------------------------\n",
      "\n",
      "**Data Set Characteristics:**  \n",
      "\n",
      "    :Number of Instances: 506 \n",
      "\n",
      "    :Number of Attributes: 13 numeric/categorical predictive. Median Value (attribute 14) is usually the target.\n",
      "\n",
      "    :Attribute Information (in order):\n",
      "        - CRIM     per capita crime rate by town\n",
      "        - ZN       proportion of residential land zoned for lots over 25,000 sq.ft.\n",
      "        - INDUS    proportion of non-retail business acres per town\n",
      "        - CHAS     Charles River dummy variable (= 1 if tract bounds river; 0 otherwise)\n",
      "        - NOX      nitric oxides concentration (parts per 10 million)\n",
      "        - RM       average number of rooms per dwelling\n",
      "        - AGE      proportion of owner-occupied units built prior to 1940\n",
      "        - DIS      weighted distances to five Boston employment centres\n",
      "        - RAD      index of accessibility to radial highways\n",
      "        - TAX      full-value property-tax rate per $10,000\n",
      "        - PTRATIO  pupil-teacher ratio by town\n",
      "        - B        1000(Bk - 0.63)^2 where Bk is the proportion of black people by town\n",
      "        - LSTAT    % lower status of the population\n",
      "        - MEDV     Median value of owner-occupied homes in $1000's\n",
      "\n",
      "    :Missing Attribute Values: None\n",
      "\n",
      "    :Creator: Harrison, D. and Rubinfeld, D.L.\n",
      "\n",
      "This is a copy of UCI ML housing dataset.\n",
      "https://archive.ics.uci.edu/ml/machine-learning-databases/housing/\n",
      "\n",
      "\n",
      "This dataset was taken from the StatLib library which is maintained at Carnegie Mellon University.\n",
      "\n",
      "The Boston house-price data of Harrison, D. and Rubinfeld, D.L. 'Hedonic\n",
      "prices and the demand for clean air', J. Environ. Economics & Management,\n",
      "vol.5, 81-102, 1978.   Used in Belsley, Kuh & Welsch, 'Regression diagnostics\n",
      "...', Wiley, 1980.   N.B. Various transformations are used in the table on\n",
      "pages 244-261 of the latter.\n",
      "\n",
      "The Boston house-price data has been used in many machine learning papers that address regression\n",
      "problems.   \n",
      "     \n",
      ".. topic:: References\n",
      "\n",
      "   - Belsley, Kuh & Welsch, 'Regression diagnostics: Identifying Influential Data and Sources of Collinearity', Wiley, 1980. 244-261.\n",
      "   - Quinlan,R. (1993). Combining Instance-Based and Model-Based Learning. In Proceedings on the Tenth International Conference of Machine Learning, 236-243, University of Massachusetts, Amherst. Morgan Kaufmann.\n",
      "\n"
     ]
    }
   ],
   "source": [
    "#Visualizamos las características del dataset\n",
    "\n",
    "print('Características del dataset:', boston.DESCR)"
   ]
  },
  {
   "cell_type": "code",
   "execution_count": 10,
   "id": "eb61fbcd",
   "metadata": {},
   "outputs": [
    {
     "name": "stdout",
     "output_type": "stream",
     "text": [
      "Cantidad de datos: (506, 13)\n"
     ]
    }
   ],
   "source": [
    "#Visualizamos la cantidad de datos\n",
    "\n",
    "print('Cantidad de datos:', boston.data.shape)"
   ]
  },
  {
   "cell_type": "code",
   "execution_count": 12,
   "id": "202b1717",
   "metadata": {},
   "outputs": [
    {
     "name": "stdout",
     "output_type": "stream",
     "text": [
      "Nombres de las columnas: ['CRIM' 'ZN' 'INDUS' 'CHAS' 'NOX' 'RM' 'AGE' 'DIS' 'RAD' 'TAX' 'PTRATIO'\n",
      " 'B' 'LSTAT']\n"
     ]
    }
   ],
   "source": [
    "#Visualizamos los nombres de las columnas\n",
    "\n",
    "print('Nombres de las columnas:', boston.feature_names)"
   ]
  },
  {
   "cell_type": "markdown",
   "id": "9f4719e1",
   "metadata": {},
   "source": [
    "### Preparamos los datos"
   ]
  },
  {
   "cell_type": "code",
   "execution_count": 13,
   "id": "460e493a",
   "metadata": {},
   "outputs": [],
   "source": [
    "#Solo queremos usar la columna que muestra el número de habitaciones que tiene la casa (RM)\n",
    "\n",
    "X = boston.data[:, np.newaxis, 5]\n",
    "y = boston.target"
   ]
  },
  {
   "cell_type": "markdown",
   "id": "4f47a212",
   "metadata": {},
   "source": [
    "### Graficamos"
   ]
  },
  {
   "cell_type": "code",
   "execution_count": 15,
   "id": "d79e4ae8",
   "metadata": {},
   "outputs": [
    {
     "data": {
      "image/png": "[encoded data removed]",
      "text/plain": [
       "<Figure size 432x288 with 1 Axes>"
      ]
     },
     "metadata": {
      "needs_background": "light"
     },
     "output_type": "display_data"
    }
   ],
   "source": [
    "plt.scatter(X, y)\n",
    "plt.xlabel('Número de habitaciones')\n",
    "plt.ylabel('Valor medio')\n",
    "plt.show()"
   ]
  },
  {
   "cell_type": "markdown",
   "id": "c9ed96f5",
   "metadata": {},
   "source": [
    "### Regresión lineal simple"
   ]
  },
  {
   "cell_type": "code",
   "execution_count": 16,
   "id": "a9c5895b",
   "metadata": {},
   "outputs": [],
   "source": [
    "from sklearn.model_selection import train_test_split\n",
    "\n",
    "X_train, X_test, y_train, y_test = train_test_split(X, y, test_size=0.2)"
   ]
  },
  {
   "cell_type": "code",
   "execution_count": 17,
   "id": "c4d5130b",
   "metadata": {},
   "outputs": [
    {
     "data": {
      "text/plain": [
       "LinearRegression()"
      ]
     },
     "execution_count": 17,
     "metadata": {},
     "output_type": "execute_result"
    }
   ],
   "source": [
    "lr = linear_model.LinearRegression()\n",
    "\n",
    "lr.fit(X_train, y_train)"
   ]
  },
  {
   "cell_type": "code",
   "execution_count": 18,
   "id": "99812d90",
   "metadata": {},
   "outputs": [],
   "source": [
    "Y_pred = lr.predict(X_test)"
   ]
  },
  {
   "cell_type": "code",
   "execution_count": 19,
   "id": "b1127c45",
   "metadata": {
    "collapsed": true
   },
   "outputs": [
    {
     "name": "stdout",
     "output_type": "stream",
     "text": [
      "[18.64864929 17.59079433 22.52147425 28.8148148  20.86297282 35.8791344\n",
      " 24.54753545 28.46518477 22.10909011 21.53533827 18.79208725 26.73496436\n",
      " 24.64614905 20.72849973 21.66084648 10.86713989 25.84744198 20.95262155\n",
      " 31.26222502 19.28515525 21.96565215  7.63978576 21.59809237 11.08229683\n",
      " 22.52147425 23.24762893 21.08709464 18.43349235 20.99744591 20.86297282\n",
      " 36.13911571 15.42129516 20.14578301 36.04050211 27.60455701 19.76029349\n",
      " 26.25086124 29.39753152 19.0699983  16.18330933 22.78145555 18.74726289\n",
      " 14.58756201 27.38043519 21.45465441 34.88403354 26.2329315  23.79448616\n",
      " 17.27702379 29.89956439 21.22156772 19.33894448 41.22219846 28.67137684\n",
      " 18.72933315 41.01600639 25.36333886 19.47341757  9.88996878 14.00484529\n",
      " 30.28505391 22.56629861 20.5760969  23.85724026 31.14568168 17.31288328\n",
      " 25.80261762 22.84420966 34.4716494  20.97951617 20.00234505 11.59329457\n",
      " 19.57203117 20.64781588 31.89873097  9.68377671 28.90446353  7.42462882\n",
      " 17.08876146 29.62165334 23.14901533 21.38293543 17.54596997 16.56879885\n",
      " 19.15068216 21.19467311 30.92155986 14.33654558 27.36250545 12.42702772\n",
      " 40.67534123 23.58829409 14.84754332 21.23949747 25.3812686  24.80751676\n",
      " 29.47821538 20.86297282 -2.14089023 23.97378361 18.78312238 26.84254284]\n"
     ]
    }
   ],
   "source": [
    "print(Y_pred)"
   ]
  },
  {
   "cell_type": "code",
   "execution_count": 20,
   "id": "a9ba95bc",
   "metadata": {
    "collapsed": true
   },
   "outputs": [
    {
     "name": "stdout",
     "output_type": "stream",
     "text": [
      "[19.1 21.8 23.  30.7 22.7 50.  24.4 34.9 21.6 10.9  8.3 32.  27.1 22.6\n",
      " 50.  15.3 50.  19.3 33.3 21.5 27.  10.5 23.2  9.7 21.2 23.7  8.7 17.3\n",
      " 15.2 23.9 50.  12.3 14.8 43.8 27.5 18.9 30.1 28.7 19.6 18.5 14.9 22.6\n",
      " 13.8 32.  13.8 35.2 29.  17.1 18.2 32.9 20.1  8.8 48.8 33.4 21.7 50.\n",
      " 13.4 20.3 11.8 20.8 36.4 19.5 20.1  9.6 34.6 19.3 28.6 14.5 46.  20.8\n",
      " 19.4  8.1 20.1 13.4 31.5 10.2 34.9 17.9 17.1 33.  23.1 14.1 15.6 20.8\n",
      " 13.5 21.7 35.4 14.4 27.5 17.8 41.7 24.6 20.2 25.3 25.1 23.8 32.2 20.4\n",
      " 27.5 19.8 18.5 22. ]\n"
     ]
    }
   ],
   "source": [
    "print(y_test)"
   ]
  },
  {
   "cell_type": "markdown",
   "id": "2527ea25",
   "metadata": {},
   "source": [
    "### Graficamos los datos junto con el modelo"
   ]
  },
  {
   "cell_type": "code",
   "execution_count": 24,
   "id": "3ee31fac",
   "metadata": {},
   "outputs": [
    {
     "data": {
      "image/png": "[encoded data removed]",
      "text/plain": [
       "<Figure size 432x288 with 1 Axes>"
      ]
     },
     "metadata": {
      "needs_background": "light"
     },
     "output_type": "display_data"
    }
   ],
   "source": [
    "plt.scatter(X_test, y_test)\n",
    "plt.plot(X_test, Y_pred, color='red', linewidth=2)\n",
    "plt.xlabel('Número de habitaciones')\n",
    "plt.ylabel('Valor medio')\n",
    "plt.show()"
   ]
  },
  {
   "cell_type": "code",
   "execution_count": 27,
   "id": "ba271beb",
   "metadata": {},
   "outputs": [
    {
     "name": "stdout",
     "output_type": "stream",
     "text": [
      "0.461700463001225\n"
     ]
    }
   ],
   "source": [
    "# Precisión del modelo\n",
    "\n",
    "print(lr.score(X_train, y_train))"
   ]
  },
  {
   "cell_type": "markdown",
   "id": "61a65c6f",
   "metadata": {},
   "source": [
    "##### Este algoritmo no es bueno para este conjunto de datos"
   ]
  },
  {
   "cell_type": "markdown",
   "id": "6ab15760",
   "metadata": {},
   "source": [
    "### Bosques aleatorios regresión"
   ]
  },
  {
   "cell_type": "code",
   "execution_count": 29,
   "id": "45f5e9bf",
   "metadata": {},
   "outputs": [],
   "source": [
    "from sklearn.ensemble import RandomForestRegressor\n",
    "\n",
    "bar = RandomForestRegressor(n_estimators = 300, max_depth = 8)"
   ]
  },
  {
   "cell_type": "code",
   "execution_count": 30,
   "id": "ba2538d8",
   "metadata": {},
   "outputs": [
    {
     "data": {
      "text/plain": [
       "RandomForestRegressor(max_depth=8, n_estimators=300)"
      ]
     },
     "execution_count": 30,
     "metadata": {},
     "output_type": "execute_result"
    }
   ],
   "source": [
    "bar.fit(X_train, y_train)"
   ]
  },
  {
   "cell_type": "code",
   "execution_count": 31,
   "id": "d9b9cd62",
   "metadata": {},
   "outputs": [],
   "source": [
    "Y_pred = bar.predict(X_test)"
   ]
  },
  {
   "cell_type": "code",
   "execution_count": null,
   "id": "51e1ff71",
   "metadata": {},
   "outputs": [],
   "source": []
  }
 ],
 "metadata": {
  "kernelspec": {
   "display_name": "Python 3 (ipykernel)",
   "language": "python",
   "name": "python3"
  },
  "language_info": {
   "codemirror_mode": {
    "name": "ipython",
    "version": 3
   },
   "file_extension": ".py",
   "mimetype": "text/x-python",
   "name": "python",
   "nbconvert_exporter": "python",
   "pygments_lexer": "ipython3",
   "version": "3.9.7"
  }
 },
 "nbformat": 4,
 "nbformat_minor": 5
}
