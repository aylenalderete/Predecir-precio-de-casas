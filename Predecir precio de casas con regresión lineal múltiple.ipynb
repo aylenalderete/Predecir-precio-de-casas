{
 "cells": [
  {
   "cell_type": "code",
   "execution_count": 1,
   "id": "c52a8aa7",
   "metadata": {},
   "outputs": [],
   "source": [
    "from sklearn import datasets, linear_model"
   ]
  },
  {
   "cell_type": "code",
   "execution_count": 6,
   "id": "7666f051",
   "metadata": {},
   "outputs": [],
   "source": [
    "boston = datasets.load_boston()"
   ]
  },
  {
   "cell_type": "code",
   "execution_count": 8,
   "id": "4014a199",
   "metadata": {
    "collapsed": true
   },
   "outputs": [
    {
     "name": "stdout",
     "output_type": "stream",
     "text": [
      "dict_keys(['data', 'target', 'feature_names', 'DESCR', 'filename'])\n",
      ".. _boston_dataset:\n",
      "\n",
      "Boston house prices dataset\n",
      "---------------------------\n",
      "\n",
      "**Data Set Characteristics:**  \n",
      "\n",
      "    :Number of Instances: 506 \n",
      "\n",
      "    :Number of Attributes: 13 numeric/categorical predictive. Median Value (attribute 14) is usually the target.\n",
      "\n",
      "    :Attribute Information (in order):\n",
      "        - CRIM     per capita crime rate by town\n",
      "        - ZN       proportion of residential land zoned for lots over 25,000 sq.ft.\n",
      "        - INDUS    proportion of non-retail business acres per town\n",
      "        - CHAS     Charles River dummy variable (= 1 if tract bounds river; 0 otherwise)\n",
      "        - NOX      nitric oxides concentration (parts per 10 million)\n",
      "        - RM       average number of rooms per dwelling\n",
      "        - AGE      proportion of owner-occupied units built prior to 1940\n",
      "        - DIS      weighted distances to five Boston employment centres\n",
      "        - RAD      index of accessibility to radial highways\n",
      "        - TAX      full-value property-tax rate per $10,000\n",
      "        - PTRATIO  pupil-teacher ratio by town\n",
      "        - B        1000(Bk - 0.63)^2 where Bk is the proportion of black people by town\n",
      "        - LSTAT    % lower status of the population\n",
      "        - MEDV     Median value of owner-occupied homes in $1000's\n",
      "\n",
      "    :Missing Attribute Values: None\n",
      "\n",
      "    :Creator: Harrison, D. and Rubinfeld, D.L.\n",
      "\n",
      "This is a copy of UCI ML housing dataset.\n",
      "https://archive.ics.uci.edu/ml/machine-learning-databases/housing/\n",
      "\n",
      "\n",
      "This dataset was taken from the StatLib library which is maintained at Carnegie Mellon University.\n",
      "\n",
      "The Boston house-price data of Harrison, D. and Rubinfeld, D.L. 'Hedonic\n",
      "prices and the demand for clean air', J. Environ. Economics & Management,\n",
      "vol.5, 81-102, 1978.   Used in Belsley, Kuh & Welsch, 'Regression diagnostics\n",
      "...', Wiley, 1980.   N.B. Various transformations are used in the table on\n",
      "pages 244-261 of the latter.\n",
      "\n",
      "The Boston house-price data has been used in many machine learning papers that address regression\n",
      "problems.   \n",
      "     \n",
      ".. topic:: References\n",
      "\n",
      "   - Belsley, Kuh & Welsch, 'Regression diagnostics: Identifying Influential Data and Sources of Collinearity', Wiley, 1980. 244-261.\n",
      "   - Quinlan,R. (1993). Combining Instance-Based and Model-Based Learning. In Proceedings on the Tenth International Conference of Machine Learning, 236-243, University of Massachusetts, Amherst. Morgan Kaufmann.\n",
      "\n"
     ]
    }
   ],
   "source": [
    "#Entendiendo los datos\n",
    "\n",
    "print(boston.keys())\n",
    "print(boston.DESCR)"
   ]
  },
  {
   "cell_type": "code",
   "execution_count": 11,
   "id": "8ab29aba",
   "metadata": {},
   "outputs": [
    {
     "name": "stdout",
     "output_type": "stream",
     "text": [
      "(506, 13)\n"
     ]
    }
   ],
   "source": [
    "print(boston.data.shape)"
   ]
  },
  {
   "cell_type": "code",
   "execution_count": 12,
   "id": "626ecd54",
   "metadata": {},
   "outputs": [
    {
     "name": "stdout",
     "output_type": "stream",
     "text": [
      "['CRIM' 'ZN' 'INDUS' 'CHAS' 'NOX' 'RM' 'AGE' 'DIS' 'RAD' 'TAX' 'PTRATIO'\n",
      " 'B' 'LSTAT']\n"
     ]
    }
   ],
   "source": [
    "print(boston.feature_names)"
   ]
  },
  {
   "cell_type": "code",
   "execution_count": 15,
   "id": "5a93aeaa",
   "metadata": {},
   "outputs": [
    {
     "name": "stdout",
     "output_type": "stream",
     "text": [
      "[[ 6.575  65.2     4.09  ]\n",
      " [ 6.421  78.9     4.9671]\n",
      " [ 7.185  61.1     4.9671]\n",
      " ...\n",
      " [ 6.976  91.      2.1675]\n",
      " [ 6.794  89.3     2.3889]\n",
      " [ 6.03   80.8     2.505 ]]\n"
     ]
    }
   ],
   "source": [
    "#Seleccionamos la columna 5, 6 y 7 del dataset: 'RM', 'AGE' y 'DIS'.\n",
    "\n",
    "X_multiple = boston.data[:, 5:8]\n",
    "print(X_multiple)"
   ]
  },
  {
   "cell_type": "code",
   "execution_count": 16,
   "id": "b636ff90",
   "metadata": {},
   "outputs": [],
   "source": [
    "y_multiple = boston.target"
   ]
  },
  {
   "cell_type": "code",
   "execution_count": 17,
   "id": "5dbc9d0e",
   "metadata": {},
   "outputs": [],
   "source": [
    "from sklearn.model_selection import train_test_split\n",
    "\n",
    "X_train, X_test, y_train, y_test = train_test_split(X_multiple, y_multiple, test_size=0.2)"
   ]
  },
  {
   "cell_type": "code",
   "execution_count": 18,
   "id": "6ae49030",
   "metadata": {},
   "outputs": [],
   "source": [
    "lr_multiple = linear_model.LinearRegression()"
   ]
  },
  {
   "cell_type": "code",
   "execution_count": 19,
   "id": "4c870851",
   "metadata": {},
   "outputs": [
    {
     "data": {
      "text/plain": [
       "LinearRegression()"
      ]
     },
     "execution_count": 19,
     "metadata": {},
     "output_type": "execute_result"
    }
   ],
   "source": [
    "lr_multiple.fit(X_train, y_train)"
   ]
  },
  {
   "cell_type": "code",
   "execution_count": 29,
   "id": "119241ab",
   "metadata": {},
   "outputs": [
    {
     "name": "stdout",
     "output_type": "stream",
     "text": [
      "[20.28676265 20.13795009 21.22581438 19.44559683 34.75020512 19.32103597\n",
      " 18.69696844 24.42618938 17.01400244 19.4875344  17.62818131 15.78239347\n",
      " 26.38257199 10.6239616  29.05379731 32.81882248 25.97907785 36.07262487\n",
      " 35.66484581 28.60685302 28.0835393  19.51384991 27.51367868 22.01075059\n",
      "  5.09971788 20.27230203 20.09311    14.98507568 23.91153047 24.50676818\n",
      " 22.64684385 18.31482338 32.97311319 38.82258202 12.40180366 18.58894797\n",
      " 19.5914472  25.08452428 20.38321242 24.87137318 19.9107244  27.33980152\n",
      " 27.00129959 15.18567663 29.0728427  20.96199896 21.82386172 17.88570543\n",
      " 22.51993311 20.10575243 21.47679885 15.51713579 24.46429951 21.46453444\n",
      " 19.05316688 10.01238081 29.8469715  25.53127505 15.46568864 21.76486891\n",
      " 23.98165124 28.55875364 10.88262669 -0.10783935 17.20020403 21.41821643\n",
      " 28.05564434 15.09492063 18.62024556 19.95497724 21.19643409 18.21648801\n",
      " 26.79514637 21.83031944 32.42391349 21.02938271 21.97875275 16.66416687\n",
      " 15.06358636 39.07004274 30.07556469 24.47735834 22.36518588 23.34136332\n",
      " 21.13338158  9.79189405 22.23645184 13.12434243 10.8308252  38.95680037\n",
      " 21.92231151 13.47265897 20.13451821 20.11667505 21.67531495 16.64006741\n",
      " 23.45126093 39.61306587 26.84364911 26.78027795 18.61515754 14.73877329]\n",
      "-\n",
      "[12.6 19.1 21.1 22.6 44.  20.1 23.8 22.8 13.3 14.1  8.8 15.1 23.9  7.4\n",
      " 36.5 34.9 22.  37.6 45.4 28.6 24.4 17.  28.2 21.7  8.8 17.5 24.3 19.7\n",
      " 16.1 20.7 21.2 13.2 33.2 48.5 13.1 19.  19.9 30.1 20.4 13.4 17.8  8.4\n",
      " 27.5 15.4 30.8 23.8 19.  17.8 16.7 20.7 16.7  8.5 14.9 21.   6.3 21.9\n",
      " 33.4 14.1  5.  21.2 19.8 25.  16.3 23.1 19.5 20.9 23.7 17.2  8.4 20.4\n",
      " 23.  19.1 23.3 20.  33.2  7.2 21.  18.5 26.4 48.8 28.7 16.5 23.3 24.1\n",
      " 14.9 14.4 25.  13.4 15.3 44.8 21.7  5.  50.  20.1 29.6 17.5 22.3 41.7\n",
      " 28.1 25.3 18.3 13.9]\n"
     ]
    }
   ],
   "source": [
    "Y_pred = lr_multiple.predict(X_test)\n",
    "print(Y_pred)\n",
    "print('-')\n",
    "print(y_test) "
   ]
  },
  {
   "cell_type": "markdown",
   "id": "e7724afd",
   "metadata": {},
   "source": [
    "##### Este modelo no es el más adecuado para implementar en este conjunto de datos."
   ]
  },
  {
   "cell_type": "code",
   "execution_count": 31,
   "id": "1e08ade4",
   "metadata": {},
   "outputs": [
    {
     "name": "stdout",
     "output_type": "stream",
     "text": [
      "Valor de las pendientes o coeficientes \"a\":\n",
      "[ 8.53502765 -0.09820154 -0.4668741 ]\n"
     ]
    }
   ],
   "source": [
    "print('Valor de las pendientes o coeficientes \"a\":')\n",
    "print(lr_multiple.coef_)"
   ]
  },
  {
   "cell_type": "code",
   "execution_count": 32,
   "id": "8f46b8cd",
   "metadata": {},
   "outputs": [
    {
     "name": "stdout",
     "output_type": "stream",
     "text": [
      "Valor de la intersección o coeficiente \"b\":\n",
      "-22.553237460697755\n"
     ]
    }
   ],
   "source": [
    "print('Valor de la intersección o coeficiente \"b\":')\n",
    "print(lr_multiple.intercept_)"
   ]
  },
  {
   "cell_type": "code",
   "execution_count": 33,
   "id": "7d47dd28",
   "metadata": {},
   "outputs": [
    {
     "name": "stdout",
     "output_type": "stream",
     "text": [
      "Precisión del modelo:\n",
      "0.5413270916600548\n"
     ]
    }
   ],
   "source": [
    "print('Precisión del modelo:')\n",
    "print(lr_multiple.score(X_train, y_train))"
   ]
  },
  {
   "cell_type": "code",
   "execution_count": null,
   "id": "b74b4e49",
   "metadata": {},
   "outputs": [],
   "source": []
  }
 ],
 "metadata": {
  "kernelspec": {
   "display_name": "Python 3 (ipykernel)",
   "language": "python",
   "name": "python3"
  },
  "language_info": {
   "codemirror_mode": {
    "name": "ipython",
    "version": 3
   },
   "file_extension": ".py",
   "mimetype": "text/x-python",
   "name": "python",
   "nbconvert_exporter": "python",
   "pygments_lexer": "ipython3",
   "version": "3.9.7"
  }
 },
 "nbformat": 4,
 "nbformat_minor": 5
}
